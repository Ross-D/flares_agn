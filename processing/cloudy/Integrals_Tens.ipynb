{
 "cells": [
  {
   "cell_type": "code",
   "execution_count": 1,
   "metadata": {
    "scrolled": false
   },
   "outputs": [
    {
     "name": "stdout",
     "output_type": "stream",
     "text": [
      "10\n",
      "top hat: 6.345391097270826e+44\n",
      "total: 6.577390356078241e+48\n",
      "min value 0.0\n",
      "no. of points: 2343\n",
      "Luminosity Integral: 2.382920520017874e+44\n",
      "20\n",
      "top hat: 6.80284095361837e+44\n",
      "total: 1.779200486138012e+48\n",
      "min value 0.0\n",
      "no. of points: 2343\n",
      "Luminosity Integral: 8.93389815229753e+43\n",
      "30\n",
      "top hat: 9.487242868037566e+44\n",
      "total: 8.02863635845831e+47\n",
      "min value 0.0\n",
      "no. of points: 2343\n",
      "Luminosity Integral: 5.545777706324706e+43\n",
      "40\n",
      "top hat: 1.638369187508146e+45\n",
      "total: 4.591670473256493e+47\n",
      "min value 0.0\n",
      "no. of points: 2343\n",
      "Luminosity Integral: 4.1883882401028666e+43\n",
      "50\n",
      "top hat: 2.523201577603934e+45\n",
      "total: 2.871354920530193e+47\n",
      "min value 0.0\n",
      "no. of points: 2343\n",
      "Luminosity Integral: 3.301788646739727e+43\n",
      "60\n",
      "top hat: 3.1549982943526795e+45\n",
      "total: 1.8593045382425317e+47\n",
      "min value 0.0\n",
      "no. of points: 2343\n",
      "Luminosity Integral: 2.6152906068615115e+43\n",
      "70\n",
      "top hat: 3.344149562469254e+45\n",
      "total: 1.2581671331073004e+47\n",
      "min value 0.0\n",
      "no. of points: 2343\n",
      "Luminosity Integral: 2.1217762271327905e+43\n",
      "80\n",
      "top hat: 3.1969013026579864e+45\n",
      "total: 8.926742343554034e+46\n",
      "min value 0.0\n",
      "no. of points: 2343\n",
      "Luminosity Integral: 1.7857752034982987e+43\n",
      "90\n",
      "top hat: 2.867029767299565e+45\n",
      "total: 6.598114038800385e+46\n",
      "min value 0.0\n",
      "no. of points: 2343\n",
      "Luminosity Integral: 1.5579618452244023e+43\n",
      "100\n",
      "top hat: 2.4676321037039365e+45\n",
      "total: 5.078179551920926e+46\n",
      "min value 0.0\n",
      "no. of points: 2343\n",
      "Luminosity Integral: 1.402492565845149e+43\n"
     ]
    },
    {
     "data": {
      "text/plain": [
       "<Figure size 1400x800 with 1 Axes>"
      ]
     },
     "metadata": {},
     "output_type": "display_data"
    }
   ],
   "source": [
    "import numpy as np\n",
    "import matplotlib.pyplot as plt\n",
    "import scipy.constants as const\n",
    "import matplotlib as mpl\n",
    "import matplotlib.cm as cm\n",
    "from scipy.integrate import simps\n",
    "cmap = mpl.cm.viridis\n",
    "norm = mpl.colors.Normalize(vmin = 1, vmax = 100)\n",
    "\n",
    "output_dir = 'output/Log'\n",
    "fig = plt.figure(figsize = (14,8))\n",
    "for i in range(10):\n",
    "    #i = 10*(i + 1)\n",
    "    #print(i)\n",
    "    i+=1\n",
    "    i=10*i\n",
    "    print(i)\n",
    "    cont = np.loadtxt(f'{output_dir}/{i}.cont', delimiter='\\t', dtype=str)#, usecols = (0,1,2,3,4,8))\n",
    "    cont_nu, cont_incident, cont_transmitted, cont_nebular, cont_total, cont_linecont = cont[:,0], cont[:,1], cont[:,2], cont[:,3], cont[:,4], cont[:,8], \n",
    "\n",
    "    nu, incident, transmitted, total = np.zeros(len(cont_nu)), np.zeros(len(cont_nu)), np.zeros(len(cont_nu)), np.zeros(len(cont_nu))\n",
    "    for ii in range(len(nu)):\n",
    "        nu[ii] = float(cont_nu[ii])\n",
    "        incident[ii] = float(cont_incident[ii])\n",
    "        transmitted[ii] = float(cont_transmitted[ii])\n",
    "        total[ii] = float(cont_total[ii])\n",
    "\n",
    "        \n",
    "    nu = np.flip(nu)\n",
    "    total = np.flip(total)\n",
    "    incident = np.flip(incident)    \n",
    "    total_cut, nu_cut, incident_cut = [], [], []\n",
    "    for iii in range(len(nu)):\n",
    "        if nu[iii] < 1.23914475e-4:\n",
    "            continue\n",
    "        elif nu[iii] > 9.11267051e2:\n",
    "            continue\n",
    "        else:\n",
    "            total_cut.append(total[iii])\n",
    "            nu_cut.append(nu[iii])\n",
    "            incident_cut.append(incident[iii])\n",
    "            \n",
    "    lum = []\n",
    "    for iiii in range(len(nu)):\n",
    "        lum.append(incident[iiii]/nu[iiii])\n",
    "    integral = simps((total), nu)\n",
    "    integral_cut = simps((incident_cut), nu_cut)\n",
    "    lum_int = simps(lum, nu)\n",
    "    \n",
    "    print(\"top hat:\", integral_cut)\n",
    "    print(\"total:\", integral)\n",
    "    print(\"min value\", min(total))\n",
    "    print(\"no. of points:\", len(nu_cut))\n",
    "    print(\"Luminosity Integral:\", lum_int)\n",
    "    plt.plot(nu, incident)\n",
    "plt.ylim(1e41, 1e43)\n",
    "plt.xlim(1.24e-4, 1e3)\n",
    "#plt.xscale('log')\n",
    "#plt.yscale('log')\n",
    "plt.show()"
   ]
  },
  {
   "cell_type": "code",
   "execution_count": 25,
   "metadata": {
    "scrolled": true
   },
   "outputs": [
    {
     "name": "stdout",
     "output_type": "stream",
     "text": [
      "[1.36056930e+01 1.00056266e+08] eV\n",
      "[3.28984196e+15 2.41934978e+22] 1 / s\n",
      "[9.11267051e+02 1.23914475e-04] Angstrom\n"
     ]
    }
   ],
   "source": [
    "import astropy.units as u\n",
    "import astropy.constants as c\n",
    "\n",
    "E = (1, 7.354e6)*u.Ry\n",
    "v = E.to(u.J)/c.h\n",
    "lam = c.c/v\n",
    "print(E.to(u.eV))\n",
    "print(v)\n",
    "print(lam.to(u.AA))"
   ]
  },
  {
   "cell_type": "code",
   "execution_count": 64,
   "metadata": {},
   "outputs": [],
   "source": [
    "incident = {}\n"
   ]
  },
  {
   "cell_type": "code",
   "execution_count": null,
   "metadata": {},
   "outputs": [],
   "source": []
  }
 ],
 "metadata": {
  "kernelspec": {
   "display_name": "Python 3",
   "language": "python",
   "name": "python3"
  },
  "language_info": {
   "codemirror_mode": {
    "name": "ipython",
    "version": 3
   },
   "file_extension": ".py",
   "mimetype": "text/x-python",
   "name": "python",
   "nbconvert_exporter": "python",
   "pygments_lexer": "ipython3",
   "version": "3.7.3"
  }
 },
 "nbformat": 4,
 "nbformat_minor": 2
}
